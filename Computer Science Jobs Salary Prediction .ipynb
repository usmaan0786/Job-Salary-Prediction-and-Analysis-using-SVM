{
 "cells": [
  {
   "cell_type": "markdown",
   "id": "f99363c7",
   "metadata": {},
   "source": [
    "# Group Members: \n",
    "### Usman Manzoor (P19-0068)\n",
    "### Muhammad Shaheer(P19-0114)"
   ]
  },
  {
   "cell_type": "markdown",
   "id": "8087a9a9",
   "metadata": {},
   "source": [
    "# Subject: Data Science"
   ]
  },
  {
   "cell_type": "markdown",
   "id": "dd8cca2a",
   "metadata": {},
   "source": [
    "# Project : Predicting Job Salaries using SVM Classifier "
   ]
  },
  {
   "cell_type": "markdown",
   "id": "c41bb7ad",
   "metadata": {},
   "source": [
    "we predicted salary based on job title, experience level and company size "
   ]
  },
  {
   "cell_type": "code",
   "execution_count": 150,
   "id": "a66a90c0",
   "metadata": {},
   "outputs": [],
   "source": [
    "import numpy as np\n",
    "import pandas as pd\n",
    "import matplotlib.pyplot as plt\n",
    "import plotly.express as px\n",
    "import seaborn as sns\n"
   ]
  },
  {
   "cell_type": "markdown",
   "id": "763ea752",
   "metadata": {},
   "source": [
    "# Extract, Transform, Load and Data wrangling"
   ]
  },
  {
   "cell_type": "markdown",
   "id": "a8c9a9e5",
   "metadata": {},
   "source": [
    "## Extraction"
   ]
  },
  {
   "cell_type": "code",
   "execution_count": 151,
   "id": "5013061b",
   "metadata": {},
   "outputs": [],
   "source": [
    "salaries = pd.read_csv(\"ds_salaries.csv\")"
   ]
  },
  {
   "cell_type": "code",
   "execution_count": 152,
   "id": "03c7d22e",
   "metadata": {},
   "outputs": [
    {
     "data": {
      "text/html": [
       "<div>\n",
       "<style scoped>\n",
       "    .dataframe tbody tr th:only-of-type {\n",
       "        vertical-align: middle;\n",
       "    }\n",
       "\n",
       "    .dataframe tbody tr th {\n",
       "        vertical-align: top;\n",
       "    }\n",
       "\n",
       "    .dataframe thead th {\n",
       "        text-align: right;\n",
       "    }\n",
       "</style>\n",
       "<table border=\"1\" class=\"dataframe\">\n",
       "  <thead>\n",
       "    <tr style=\"text-align: right;\">\n",
       "      <th></th>\n",
       "      <th>work_year</th>\n",
       "      <th>experience_level</th>\n",
       "      <th>employment_type</th>\n",
       "      <th>job_title</th>\n",
       "      <th>salary</th>\n",
       "      <th>salary_currency</th>\n",
       "      <th>salary_in_usd</th>\n",
       "      <th>employee_residence</th>\n",
       "      <th>remote_ratio</th>\n",
       "      <th>company_location</th>\n",
       "      <th>company_size</th>\n",
       "    </tr>\n",
       "  </thead>\n",
       "  <tbody>\n",
       "    <tr>\n",
       "      <th>0</th>\n",
       "      <td>2023</td>\n",
       "      <td>SE</td>\n",
       "      <td>FT</td>\n",
       "      <td>Principal Data Scientist</td>\n",
       "      <td>80000</td>\n",
       "      <td>EUR</td>\n",
       "      <td>85847</td>\n",
       "      <td>ES</td>\n",
       "      <td>100</td>\n",
       "      <td>ES</td>\n",
       "      <td>L</td>\n",
       "    </tr>\n",
       "    <tr>\n",
       "      <th>1</th>\n",
       "      <td>2023</td>\n",
       "      <td>MI</td>\n",
       "      <td>CT</td>\n",
       "      <td>ML Engineer</td>\n",
       "      <td>30000</td>\n",
       "      <td>USD</td>\n",
       "      <td>30000</td>\n",
       "      <td>US</td>\n",
       "      <td>100</td>\n",
       "      <td>US</td>\n",
       "      <td>S</td>\n",
       "    </tr>\n",
       "    <tr>\n",
       "      <th>2</th>\n",
       "      <td>2023</td>\n",
       "      <td>MI</td>\n",
       "      <td>CT</td>\n",
       "      <td>ML Engineer</td>\n",
       "      <td>25500</td>\n",
       "      <td>USD</td>\n",
       "      <td>25500</td>\n",
       "      <td>US</td>\n",
       "      <td>100</td>\n",
       "      <td>US</td>\n",
       "      <td>S</td>\n",
       "    </tr>\n",
       "    <tr>\n",
       "      <th>3</th>\n",
       "      <td>2023</td>\n",
       "      <td>SE</td>\n",
       "      <td>FT</td>\n",
       "      <td>Data Scientist</td>\n",
       "      <td>175000</td>\n",
       "      <td>USD</td>\n",
       "      <td>175000</td>\n",
       "      <td>CA</td>\n",
       "      <td>100</td>\n",
       "      <td>CA</td>\n",
       "      <td>M</td>\n",
       "    </tr>\n",
       "    <tr>\n",
       "      <th>4</th>\n",
       "      <td>2023</td>\n",
       "      <td>SE</td>\n",
       "      <td>FT</td>\n",
       "      <td>Data Scientist</td>\n",
       "      <td>120000</td>\n",
       "      <td>USD</td>\n",
       "      <td>120000</td>\n",
       "      <td>CA</td>\n",
       "      <td>100</td>\n",
       "      <td>CA</td>\n",
       "      <td>M</td>\n",
       "    </tr>\n",
       "    <tr>\n",
       "      <th>...</th>\n",
       "      <td>...</td>\n",
       "      <td>...</td>\n",
       "      <td>...</td>\n",
       "      <td>...</td>\n",
       "      <td>...</td>\n",
       "      <td>...</td>\n",
       "      <td>...</td>\n",
       "      <td>...</td>\n",
       "      <td>...</td>\n",
       "      <td>...</td>\n",
       "      <td>...</td>\n",
       "    </tr>\n",
       "    <tr>\n",
       "      <th>3750</th>\n",
       "      <td>2020</td>\n",
       "      <td>SE</td>\n",
       "      <td>FT</td>\n",
       "      <td>Data Scientist</td>\n",
       "      <td>412000</td>\n",
       "      <td>USD</td>\n",
       "      <td>412000</td>\n",
       "      <td>US</td>\n",
       "      <td>100</td>\n",
       "      <td>US</td>\n",
       "      <td>L</td>\n",
       "    </tr>\n",
       "    <tr>\n",
       "      <th>3751</th>\n",
       "      <td>2021</td>\n",
       "      <td>MI</td>\n",
       "      <td>FT</td>\n",
       "      <td>Principal Data Scientist</td>\n",
       "      <td>151000</td>\n",
       "      <td>USD</td>\n",
       "      <td>151000</td>\n",
       "      <td>US</td>\n",
       "      <td>100</td>\n",
       "      <td>US</td>\n",
       "      <td>L</td>\n",
       "    </tr>\n",
       "    <tr>\n",
       "      <th>3752</th>\n",
       "      <td>2020</td>\n",
       "      <td>EN</td>\n",
       "      <td>FT</td>\n",
       "      <td>Data Scientist</td>\n",
       "      <td>105000</td>\n",
       "      <td>USD</td>\n",
       "      <td>105000</td>\n",
       "      <td>US</td>\n",
       "      <td>100</td>\n",
       "      <td>US</td>\n",
       "      <td>S</td>\n",
       "    </tr>\n",
       "    <tr>\n",
       "      <th>3753</th>\n",
       "      <td>2020</td>\n",
       "      <td>EN</td>\n",
       "      <td>CT</td>\n",
       "      <td>Business Data Analyst</td>\n",
       "      <td>100000</td>\n",
       "      <td>USD</td>\n",
       "      <td>100000</td>\n",
       "      <td>US</td>\n",
       "      <td>100</td>\n",
       "      <td>US</td>\n",
       "      <td>L</td>\n",
       "    </tr>\n",
       "    <tr>\n",
       "      <th>3754</th>\n",
       "      <td>2021</td>\n",
       "      <td>SE</td>\n",
       "      <td>FT</td>\n",
       "      <td>Data Science Manager</td>\n",
       "      <td>7000000</td>\n",
       "      <td>INR</td>\n",
       "      <td>94665</td>\n",
       "      <td>IN</td>\n",
       "      <td>50</td>\n",
       "      <td>IN</td>\n",
       "      <td>L</td>\n",
       "    </tr>\n",
       "  </tbody>\n",
       "</table>\n",
       "<p>3755 rows × 11 columns</p>\n",
       "</div>"
      ],
      "text/plain": [
       "      work_year experience_level employment_type                 job_title  \\\n",
       "0          2023               SE              FT  Principal Data Scientist   \n",
       "1          2023               MI              CT               ML Engineer   \n",
       "2          2023               MI              CT               ML Engineer   \n",
       "3          2023               SE              FT            Data Scientist   \n",
       "4          2023               SE              FT            Data Scientist   \n",
       "...         ...              ...             ...                       ...   \n",
       "3750       2020               SE              FT            Data Scientist   \n",
       "3751       2021               MI              FT  Principal Data Scientist   \n",
       "3752       2020               EN              FT            Data Scientist   \n",
       "3753       2020               EN              CT     Business Data Analyst   \n",
       "3754       2021               SE              FT      Data Science Manager   \n",
       "\n",
       "       salary salary_currency  salary_in_usd employee_residence  remote_ratio  \\\n",
       "0       80000             EUR          85847                 ES           100   \n",
       "1       30000             USD          30000                 US           100   \n",
       "2       25500             USD          25500                 US           100   \n",
       "3      175000             USD         175000                 CA           100   \n",
       "4      120000             USD         120000                 CA           100   \n",
       "...       ...             ...            ...                ...           ...   \n",
       "3750   412000             USD         412000                 US           100   \n",
       "3751   151000             USD         151000                 US           100   \n",
       "3752   105000             USD         105000                 US           100   \n",
       "3753   100000             USD         100000                 US           100   \n",
       "3754  7000000             INR          94665                 IN            50   \n",
       "\n",
       "     company_location company_size  \n",
       "0                  ES            L  \n",
       "1                  US            S  \n",
       "2                  US            S  \n",
       "3                  CA            M  \n",
       "4                  CA            M  \n",
       "...               ...          ...  \n",
       "3750               US            L  \n",
       "3751               US            L  \n",
       "3752               US            S  \n",
       "3753               US            L  \n",
       "3754               IN            L  \n",
       "\n",
       "[3755 rows x 11 columns]"
      ]
     },
     "execution_count": 152,
     "metadata": {},
     "output_type": "execute_result"
    }
   ],
   "source": [
    "salaries"
   ]
  },
  {
   "cell_type": "markdown",
   "id": "ea670b12",
   "metadata": {},
   "source": [
    " ## Data wrangling\n"
   ]
  },
  {
   "cell_type": "code",
   "execution_count": 153,
   "id": "f634f443",
   "metadata": {},
   "outputs": [
    {
     "data": {
      "text/plain": [
       "(3755, 11)"
      ]
     },
     "execution_count": 153,
     "metadata": {},
     "output_type": "execute_result"
    }
   ],
   "source": [
    "salaries.shape"
   ]
  },
  {
   "cell_type": "code",
   "execution_count": 154,
   "id": "7776da0d",
   "metadata": {},
   "outputs": [
    {
     "name": "stdout",
     "output_type": "stream",
     "text": [
      "<class 'pandas.core.frame.DataFrame'>\n",
      "RangeIndex: 3755 entries, 0 to 3754\n",
      "Data columns (total 11 columns):\n",
      " #   Column              Non-Null Count  Dtype \n",
      "---  ------              --------------  ----- \n",
      " 0   work_year           3755 non-null   int64 \n",
      " 1   experience_level    3755 non-null   object\n",
      " 2   employment_type     3755 non-null   object\n",
      " 3   job_title           3755 non-null   object\n",
      " 4   salary              3755 non-null   int64 \n",
      " 5   salary_currency     3755 non-null   object\n",
      " 6   salary_in_usd       3755 non-null   int64 \n",
      " 7   employee_residence  3755 non-null   object\n",
      " 8   remote_ratio        3755 non-null   int64 \n",
      " 9   company_location    3755 non-null   object\n",
      " 10  company_size        3755 non-null   object\n",
      "dtypes: int64(4), object(7)\n",
      "memory usage: 322.8+ KB\n"
     ]
    }
   ],
   "source": [
    "salaries.info()"
   ]
  },
  {
   "cell_type": "code",
   "execution_count": 155,
   "id": "b00eeb40",
   "metadata": {},
   "outputs": [
    {
     "data": {
      "text/plain": [
       "work_year             0\n",
       "experience_level      0\n",
       "employment_type       0\n",
       "job_title             0\n",
       "salary                0\n",
       "salary_currency       0\n",
       "salary_in_usd         0\n",
       "employee_residence    0\n",
       "remote_ratio          0\n",
       "company_location      0\n",
       "company_size          0\n",
       "dtype: int64"
      ]
     },
     "execution_count": 155,
     "metadata": {},
     "output_type": "execute_result"
    }
   ],
   "source": [
    "salaries.isnull().sum() # no null values"
   ]
  },
  {
   "cell_type": "code",
   "execution_count": 156,
   "id": "c927a995",
   "metadata": {},
   "outputs": [
    {
     "data": {
      "text/plain": [
       "1171"
      ]
     },
     "execution_count": 156,
     "metadata": {},
     "output_type": "execute_result"
    }
   ],
   "source": [
    "salaries.duplicated().sum() # no duplicated values"
   ]
  },
  {
   "cell_type": "code",
   "execution_count": 157,
   "id": "e2610344",
   "metadata": {},
   "outputs": [],
   "source": [
    "salaries.drop(['company_location','remote_ratio'],axis=1,inplace=True)  #uncessory columns deleted"
   ]
  },
  {
   "cell_type": "code",
   "execution_count": 158,
   "id": "35f481eb",
   "metadata": {},
   "outputs": [
    {
     "data": {
      "text/html": [
       "<div>\n",
       "<style scoped>\n",
       "    .dataframe tbody tr th:only-of-type {\n",
       "        vertical-align: middle;\n",
       "    }\n",
       "\n",
       "    .dataframe tbody tr th {\n",
       "        vertical-align: top;\n",
       "    }\n",
       "\n",
       "    .dataframe thead th {\n",
       "        text-align: right;\n",
       "    }\n",
       "</style>\n",
       "<table border=\"1\" class=\"dataframe\">\n",
       "  <thead>\n",
       "    <tr style=\"text-align: right;\">\n",
       "      <th></th>\n",
       "      <th>work_year</th>\n",
       "      <th>experience_level</th>\n",
       "      <th>employment_type</th>\n",
       "      <th>job_title</th>\n",
       "      <th>salary</th>\n",
       "      <th>salary_currency</th>\n",
       "      <th>salary_in_usd</th>\n",
       "      <th>employee_residence</th>\n",
       "      <th>company_size</th>\n",
       "    </tr>\n",
       "  </thead>\n",
       "  <tbody>\n",
       "    <tr>\n",
       "      <th>0</th>\n",
       "      <td>2023</td>\n",
       "      <td>SE</td>\n",
       "      <td>FT</td>\n",
       "      <td>Principal Data Scientist</td>\n",
       "      <td>80000</td>\n",
       "      <td>EUR</td>\n",
       "      <td>85847</td>\n",
       "      <td>ES</td>\n",
       "      <td>L</td>\n",
       "    </tr>\n",
       "    <tr>\n",
       "      <th>1</th>\n",
       "      <td>2023</td>\n",
       "      <td>MI</td>\n",
       "      <td>CT</td>\n",
       "      <td>ML Engineer</td>\n",
       "      <td>30000</td>\n",
       "      <td>USD</td>\n",
       "      <td>30000</td>\n",
       "      <td>US</td>\n",
       "      <td>S</td>\n",
       "    </tr>\n",
       "    <tr>\n",
       "      <th>2</th>\n",
       "      <td>2023</td>\n",
       "      <td>MI</td>\n",
       "      <td>CT</td>\n",
       "      <td>ML Engineer</td>\n",
       "      <td>25500</td>\n",
       "      <td>USD</td>\n",
       "      <td>25500</td>\n",
       "      <td>US</td>\n",
       "      <td>S</td>\n",
       "    </tr>\n",
       "    <tr>\n",
       "      <th>3</th>\n",
       "      <td>2023</td>\n",
       "      <td>SE</td>\n",
       "      <td>FT</td>\n",
       "      <td>Data Scientist</td>\n",
       "      <td>175000</td>\n",
       "      <td>USD</td>\n",
       "      <td>175000</td>\n",
       "      <td>CA</td>\n",
       "      <td>M</td>\n",
       "    </tr>\n",
       "    <tr>\n",
       "      <th>4</th>\n",
       "      <td>2023</td>\n",
       "      <td>SE</td>\n",
       "      <td>FT</td>\n",
       "      <td>Data Scientist</td>\n",
       "      <td>120000</td>\n",
       "      <td>USD</td>\n",
       "      <td>120000</td>\n",
       "      <td>CA</td>\n",
       "      <td>M</td>\n",
       "    </tr>\n",
       "    <tr>\n",
       "      <th>...</th>\n",
       "      <td>...</td>\n",
       "      <td>...</td>\n",
       "      <td>...</td>\n",
       "      <td>...</td>\n",
       "      <td>...</td>\n",
       "      <td>...</td>\n",
       "      <td>...</td>\n",
       "      <td>...</td>\n",
       "      <td>...</td>\n",
       "    </tr>\n",
       "    <tr>\n",
       "      <th>3750</th>\n",
       "      <td>2020</td>\n",
       "      <td>SE</td>\n",
       "      <td>FT</td>\n",
       "      <td>Data Scientist</td>\n",
       "      <td>412000</td>\n",
       "      <td>USD</td>\n",
       "      <td>412000</td>\n",
       "      <td>US</td>\n",
       "      <td>L</td>\n",
       "    </tr>\n",
       "    <tr>\n",
       "      <th>3751</th>\n",
       "      <td>2021</td>\n",
       "      <td>MI</td>\n",
       "      <td>FT</td>\n",
       "      <td>Principal Data Scientist</td>\n",
       "      <td>151000</td>\n",
       "      <td>USD</td>\n",
       "      <td>151000</td>\n",
       "      <td>US</td>\n",
       "      <td>L</td>\n",
       "    </tr>\n",
       "    <tr>\n",
       "      <th>3752</th>\n",
       "      <td>2020</td>\n",
       "      <td>EN</td>\n",
       "      <td>FT</td>\n",
       "      <td>Data Scientist</td>\n",
       "      <td>105000</td>\n",
       "      <td>USD</td>\n",
       "      <td>105000</td>\n",
       "      <td>US</td>\n",
       "      <td>S</td>\n",
       "    </tr>\n",
       "    <tr>\n",
       "      <th>3753</th>\n",
       "      <td>2020</td>\n",
       "      <td>EN</td>\n",
       "      <td>CT</td>\n",
       "      <td>Business Data Analyst</td>\n",
       "      <td>100000</td>\n",
       "      <td>USD</td>\n",
       "      <td>100000</td>\n",
       "      <td>US</td>\n",
       "      <td>L</td>\n",
       "    </tr>\n",
       "    <tr>\n",
       "      <th>3754</th>\n",
       "      <td>2021</td>\n",
       "      <td>SE</td>\n",
       "      <td>FT</td>\n",
       "      <td>Data Science Manager</td>\n",
       "      <td>7000000</td>\n",
       "      <td>INR</td>\n",
       "      <td>94665</td>\n",
       "      <td>IN</td>\n",
       "      <td>L</td>\n",
       "    </tr>\n",
       "  </tbody>\n",
       "</table>\n",
       "<p>3755 rows × 9 columns</p>\n",
       "</div>"
      ],
      "text/plain": [
       "      work_year experience_level employment_type                 job_title  \\\n",
       "0          2023               SE              FT  Principal Data Scientist   \n",
       "1          2023               MI              CT               ML Engineer   \n",
       "2          2023               MI              CT               ML Engineer   \n",
       "3          2023               SE              FT            Data Scientist   \n",
       "4          2023               SE              FT            Data Scientist   \n",
       "...         ...              ...             ...                       ...   \n",
       "3750       2020               SE              FT            Data Scientist   \n",
       "3751       2021               MI              FT  Principal Data Scientist   \n",
       "3752       2020               EN              FT            Data Scientist   \n",
       "3753       2020               EN              CT     Business Data Analyst   \n",
       "3754       2021               SE              FT      Data Science Manager   \n",
       "\n",
       "       salary salary_currency  salary_in_usd employee_residence company_size  \n",
       "0       80000             EUR          85847                 ES            L  \n",
       "1       30000             USD          30000                 US            S  \n",
       "2       25500             USD          25500                 US            S  \n",
       "3      175000             USD         175000                 CA            M  \n",
       "4      120000             USD         120000                 CA            M  \n",
       "...       ...             ...            ...                ...          ...  \n",
       "3750   412000             USD         412000                 US            L  \n",
       "3751   151000             USD         151000                 US            L  \n",
       "3752   105000             USD         105000                 US            S  \n",
       "3753   100000             USD         100000                 US            L  \n",
       "3754  7000000             INR          94665                 IN            L  \n",
       "\n",
       "[3755 rows x 9 columns]"
      ]
     },
     "execution_count": 158,
     "metadata": {},
     "output_type": "execute_result"
    }
   ],
   "source": [
    "salaries"
   ]
  },
  {
   "cell_type": "markdown",
   "id": "1a151023",
   "metadata": {},
   "source": [
    "## Data visualization"
   ]
  },
  {
   "cell_type": "code",
   "execution_count": 159,
   "id": "61779938",
   "metadata": {},
   "outputs": [
    {
     "data": {
      "text/plain": [
       "Text(0.5, 1.0, 'JOB Salaries')"
      ]
     },
     "execution_count": 159,
     "metadata": {},
     "output_type": "execute_result"
    },
    {
     "data": {
      "image/png": "[encoded data removed]",
      "text/plain": [
       "<Figure size 1008x504 with 1 Axes>"
      ]
     },
     "metadata": {
      "needs_background": "light"
     },
     "output_type": "display_data"
    }
   ],
   "source": [
    "fig = plt.subplots(figsize=(14, 7))\n",
    "sns.barplot(x=salaries[\"job_title\"], y=salaries[\"salary\"], hue=salaries[\"company_size\"],palette=\"deep\")\n",
    "plt.xticks(rotation=0);\n",
    "plt.xlabel(\"Job Title \", fontsize=15)\n",
    "plt.ylabel(\"Salary\", fontsize=15)\n",
    "plt.title(\"JOB Salaries\", fontsize=15)\n",
    "\n"
   ]
  },
  {
   "cell_type": "code",
   "execution_count": 160,
   "id": "83875604",
   "metadata": {},
   "outputs": [
    {
     "data": {
      "text/plain": [
       "Text(0.5, 1.0, 'Job Salaries')"
      ]
     },
     "execution_count": 160,
     "metadata": {},
     "output_type": "execute_result"
    },
    {
     "data": {
      "image/png": "[encoded data removed]",
      "text/plain": [
       "<Figure size 1008x504 with 1 Axes>"
      ]
     },
     "metadata": {
      "needs_background": "light"
     },
     "output_type": "display_data"
    }
   ],
   "source": [
    "fig = plt.subplots(figsize=(14, 7))\n",
    "sns.barplot(x=salaries[\"job_title\"], y=salaries[\"salary\"], hue=salaries[\"company_size\"],palette=\"deep\")\n",
    "plt.xticks(rotation=90);\n",
    "plt.xlabel(\"Job Title\", fontsize=15)\n",
    "plt.ylabel(\"Salary\", fontsize=15)\n",
    "plt.title(\"Job Salaries\", fontsize=20)"
   ]
  },
  {
   "cell_type": "code",
   "execution_count": 161,
   "id": "c831d392",
   "metadata": {},
   "outputs": [
    {
     "data": {
      "text/html": [
       "<div>\n",
       "<style scoped>\n",
       "    .dataframe tbody tr th:only-of-type {\n",
       "        vertical-align: middle;\n",
       "    }\n",
       "\n",
       "    .dataframe tbody tr th {\n",
       "        vertical-align: top;\n",
       "    }\n",
       "\n",
       "    .dataframe thead th {\n",
       "        text-align: right;\n",
       "    }\n",
       "</style>\n",
       "<table border=\"1\" class=\"dataframe\">\n",
       "  <thead>\n",
       "    <tr style=\"text-align: right;\">\n",
       "      <th></th>\n",
       "      <th>work_year</th>\n",
       "      <th>experience_level</th>\n",
       "      <th>employment_type</th>\n",
       "      <th>job_title</th>\n",
       "      <th>salary</th>\n",
       "      <th>salary_currency</th>\n",
       "      <th>salary_in_usd</th>\n",
       "      <th>employee_residence</th>\n",
       "      <th>company_size</th>\n",
       "    </tr>\n",
       "  </thead>\n",
       "  <tbody>\n",
       "    <tr>\n",
       "      <th>0</th>\n",
       "      <td>2023</td>\n",
       "      <td>SE</td>\n",
       "      <td>FT</td>\n",
       "      <td>Principal Data Scientist</td>\n",
       "      <td>80000</td>\n",
       "      <td>EUR</td>\n",
       "      <td>85847</td>\n",
       "      <td>ES</td>\n",
       "      <td>L</td>\n",
       "    </tr>\n",
       "    <tr>\n",
       "      <th>1</th>\n",
       "      <td>2023</td>\n",
       "      <td>MI</td>\n",
       "      <td>CT</td>\n",
       "      <td>ML Engineer</td>\n",
       "      <td>30000</td>\n",
       "      <td>USD</td>\n",
       "      <td>30000</td>\n",
       "      <td>US</td>\n",
       "      <td>S</td>\n",
       "    </tr>\n",
       "    <tr>\n",
       "      <th>2</th>\n",
       "      <td>2023</td>\n",
       "      <td>MI</td>\n",
       "      <td>CT</td>\n",
       "      <td>ML Engineer</td>\n",
       "      <td>25500</td>\n",
       "      <td>USD</td>\n",
       "      <td>25500</td>\n",
       "      <td>US</td>\n",
       "      <td>S</td>\n",
       "    </tr>\n",
       "    <tr>\n",
       "      <th>3</th>\n",
       "      <td>2023</td>\n",
       "      <td>SE</td>\n",
       "      <td>FT</td>\n",
       "      <td>Data Scientist</td>\n",
       "      <td>175000</td>\n",
       "      <td>USD</td>\n",
       "      <td>175000</td>\n",
       "      <td>CA</td>\n",
       "      <td>M</td>\n",
       "    </tr>\n",
       "    <tr>\n",
       "      <th>4</th>\n",
       "      <td>2023</td>\n",
       "      <td>SE</td>\n",
       "      <td>FT</td>\n",
       "      <td>Data Scientist</td>\n",
       "      <td>120000</td>\n",
       "      <td>USD</td>\n",
       "      <td>120000</td>\n",
       "      <td>CA</td>\n",
       "      <td>M</td>\n",
       "    </tr>\n",
       "  </tbody>\n",
       "</table>\n",
       "</div>"
      ],
      "text/plain": [
       "   work_year experience_level employment_type                 job_title  \\\n",
       "0       2023               SE              FT  Principal Data Scientist   \n",
       "1       2023               MI              CT               ML Engineer   \n",
       "2       2023               MI              CT               ML Engineer   \n",
       "3       2023               SE              FT            Data Scientist   \n",
       "4       2023               SE              FT            Data Scientist   \n",
       "\n",
       "   salary salary_currency  salary_in_usd employee_residence company_size  \n",
       "0   80000             EUR          85847                 ES            L  \n",
       "1   30000             USD          30000                 US            S  \n",
       "2   25500             USD          25500                 US            S  \n",
       "3  175000             USD         175000                 CA            M  \n",
       "4  120000             USD         120000                 CA            M  "
      ]
     },
     "execution_count": 161,
     "metadata": {},
     "output_type": "execute_result"
    }
   ],
   "source": [
    "salaries.head()"
   ]
  },
  {
   "cell_type": "code",
   "execution_count": 162,
   "id": "3b082ad2",
   "metadata": {},
   "outputs": [
    {
     "data": {
      "text/plain": [
       "(799,)"
      ]
     },
     "execution_count": 162,
     "metadata": {},
     "output_type": "execute_result"
    }
   ],
   "source": [
    "salaries['salary'][:799].shape"
   ]
  },
  {
   "cell_type": "code",
   "execution_count": 163,
   "id": "e62221bf",
   "metadata": {},
   "outputs": [],
   "source": [
    "salaries.drop(['salary_in_usd','employee_residence','salary_currency', 'employment_type', 'work_year'],axis=1,inplace=True)\n"
   ]
  },
  {
   "cell_type": "code",
   "execution_count": 164,
   "id": "7c1527cc",
   "metadata": {},
   "outputs": [
    {
     "data": {
      "text/html": [
       "<div>\n",
       "<style scoped>\n",
       "    .dataframe tbody tr th:only-of-type {\n",
       "        vertical-align: middle;\n",
       "    }\n",
       "\n",
       "    .dataframe tbody tr th {\n",
       "        vertical-align: top;\n",
       "    }\n",
       "\n",
       "    .dataframe thead th {\n",
       "        text-align: right;\n",
       "    }\n",
       "</style>\n",
       "<table border=\"1\" class=\"dataframe\">\n",
       "  <thead>\n",
       "    <tr style=\"text-align: right;\">\n",
       "      <th></th>\n",
       "      <th>experience_level</th>\n",
       "      <th>job_title</th>\n",
       "      <th>salary</th>\n",
       "      <th>company_size</th>\n",
       "    </tr>\n",
       "  </thead>\n",
       "  <tbody>\n",
       "    <tr>\n",
       "      <th>0</th>\n",
       "      <td>SE</td>\n",
       "      <td>Principal Data Scientist</td>\n",
       "      <td>80000</td>\n",
       "      <td>L</td>\n",
       "    </tr>\n",
       "    <tr>\n",
       "      <th>1</th>\n",
       "      <td>MI</td>\n",
       "      <td>ML Engineer</td>\n",
       "      <td>30000</td>\n",
       "      <td>S</td>\n",
       "    </tr>\n",
       "    <tr>\n",
       "      <th>2</th>\n",
       "      <td>MI</td>\n",
       "      <td>ML Engineer</td>\n",
       "      <td>25500</td>\n",
       "      <td>S</td>\n",
       "    </tr>\n",
       "    <tr>\n",
       "      <th>3</th>\n",
       "      <td>SE</td>\n",
       "      <td>Data Scientist</td>\n",
       "      <td>175000</td>\n",
       "      <td>M</td>\n",
       "    </tr>\n",
       "    <tr>\n",
       "      <th>4</th>\n",
       "      <td>SE</td>\n",
       "      <td>Data Scientist</td>\n",
       "      <td>120000</td>\n",
       "      <td>M</td>\n",
       "    </tr>\n",
       "    <tr>\n",
       "      <th>...</th>\n",
       "      <td>...</td>\n",
       "      <td>...</td>\n",
       "      <td>...</td>\n",
       "      <td>...</td>\n",
       "    </tr>\n",
       "    <tr>\n",
       "      <th>3750</th>\n",
       "      <td>SE</td>\n",
       "      <td>Data Scientist</td>\n",
       "      <td>412000</td>\n",
       "      <td>L</td>\n",
       "    </tr>\n",
       "    <tr>\n",
       "      <th>3751</th>\n",
       "      <td>MI</td>\n",
       "      <td>Principal Data Scientist</td>\n",
       "      <td>151000</td>\n",
       "      <td>L</td>\n",
       "    </tr>\n",
       "    <tr>\n",
       "      <th>3752</th>\n",
       "      <td>EN</td>\n",
       "      <td>Data Scientist</td>\n",
       "      <td>105000</td>\n",
       "      <td>S</td>\n",
       "    </tr>\n",
       "    <tr>\n",
       "      <th>3753</th>\n",
       "      <td>EN</td>\n",
       "      <td>Business Data Analyst</td>\n",
       "      <td>100000</td>\n",
       "      <td>L</td>\n",
       "    </tr>\n",
       "    <tr>\n",
       "      <th>3754</th>\n",
       "      <td>SE</td>\n",
       "      <td>Data Science Manager</td>\n",
       "      <td>7000000</td>\n",
       "      <td>L</td>\n",
       "    </tr>\n",
       "  </tbody>\n",
       "</table>\n",
       "<p>3755 rows × 4 columns</p>\n",
       "</div>"
      ],
      "text/plain": [
       "     experience_level                 job_title   salary company_size\n",
       "0                  SE  Principal Data Scientist    80000            L\n",
       "1                  MI               ML Engineer    30000            S\n",
       "2                  MI               ML Engineer    25500            S\n",
       "3                  SE            Data Scientist   175000            M\n",
       "4                  SE            Data Scientist   120000            M\n",
       "...               ...                       ...      ...          ...\n",
       "3750               SE            Data Scientist   412000            L\n",
       "3751               MI  Principal Data Scientist   151000            L\n",
       "3752               EN            Data Scientist   105000            S\n",
       "3753               EN     Business Data Analyst   100000            L\n",
       "3754               SE      Data Science Manager  7000000            L\n",
       "\n",
       "[3755 rows x 4 columns]"
      ]
     },
     "execution_count": 164,
     "metadata": {},
     "output_type": "execute_result"
    }
   ],
   "source": [
    "salaries"
   ]
  },
  {
   "cell_type": "code",
   "execution_count": 165,
   "id": "aec0e7f0",
   "metadata": {},
   "outputs": [
    {
     "data": {
      "text/plain": [
       "Text(0, 0.5, 'Salary')"
      ]
     },
     "execution_count": 165,
     "metadata": {},
     "output_type": "execute_result"
    },
    {
     "data": {
      "image/png": "[encoded data removed]",
      "text/plain": [
       "<Figure size 1152x216 with 1 Axes>"
      ]
     },
     "metadata": {
      "needs_background": "light"
     },
     "output_type": "display_data"
    }
   ],
   "source": [
    "plt.figure(figsize=(16,3))\n",
    "plt.subplot(1,4,1)\n",
    "plt.scatter(x = salaries['job_title'],y = salaries['salary'], edgecolors='white')\n",
    "plt.title('Job Title vs Salaries')\n",
    "plt.xlabel('Job Title')\n",
    "plt.ylabel('Salary')"
   ]
  },
  {
   "cell_type": "code",
   "execution_count": 166,
   "id": "2d192abb",
   "metadata": {},
   "outputs": [
    {
     "data": {
      "text/plain": [
       "Text(0, 0.5, 'Salary')"
      ]
     },
     "execution_count": 166,
     "metadata": {},
     "output_type": "execute_result"
    },
    {
     "data": {
      "image/png": "[encoded data removed]",
      "text/plain": [
       "<Figure size 1152x216 with 1 Axes>"
      ]
     },
     "metadata": {
      "needs_background": "light"
     },
     "output_type": "display_data"
    }
   ],
   "source": [
    "plt.figure(figsize=(16,3))\n",
    "plt.subplot(1,4,1)\n",
    "plt.scatter(x=salaries['experience_level'],y=salaries['salary'],edgecolors='white')\n",
    "plt.title('Experience Level vs Salaries')\n",
    "plt.xlabel('Experience Level')\n",
    "plt.ylabel('Salary')"
   ]
  },
  {
   "cell_type": "markdown",
   "id": "1e764e27",
   "metadata": {},
   "source": [
    "## Choose\n",
    "As you can see that one  realtion is not enough to predict the Price. So, we have to use Multivarible Model  "
   ]
  },
  {
   "cell_type": "code",
   "execution_count": 167,
   "id": "3d6886a4",
   "metadata": {},
   "outputs": [
    {
     "data": {
      "text/html": [
       "<div>\n",
       "<style scoped>\n",
       "    .dataframe tbody tr th:only-of-type {\n",
       "        vertical-align: middle;\n",
       "    }\n",
       "\n",
       "    .dataframe tbody tr th {\n",
       "        vertical-align: top;\n",
       "    }\n",
       "\n",
       "    .dataframe thead th {\n",
       "        text-align: right;\n",
       "    }\n",
       "</style>\n",
       "<table border=\"1\" class=\"dataframe\">\n",
       "  <thead>\n",
       "    <tr style=\"text-align: right;\">\n",
       "      <th></th>\n",
       "      <th>experience_level</th>\n",
       "      <th>job_title</th>\n",
       "      <th>salary</th>\n",
       "      <th>company_size</th>\n",
       "    </tr>\n",
       "  </thead>\n",
       "  <tbody>\n",
       "    <tr>\n",
       "      <th>0</th>\n",
       "      <td>SE</td>\n",
       "      <td>Principal Data Scientist</td>\n",
       "      <td>80000</td>\n",
       "      <td>L</td>\n",
       "    </tr>\n",
       "    <tr>\n",
       "      <th>1</th>\n",
       "      <td>MI</td>\n",
       "      <td>ML Engineer</td>\n",
       "      <td>30000</td>\n",
       "      <td>S</td>\n",
       "    </tr>\n",
       "    <tr>\n",
       "      <th>2</th>\n",
       "      <td>MI</td>\n",
       "      <td>ML Engineer</td>\n",
       "      <td>25500</td>\n",
       "      <td>S</td>\n",
       "    </tr>\n",
       "    <tr>\n",
       "      <th>3</th>\n",
       "      <td>SE</td>\n",
       "      <td>Data Scientist</td>\n",
       "      <td>175000</td>\n",
       "      <td>M</td>\n",
       "    </tr>\n",
       "    <tr>\n",
       "      <th>4</th>\n",
       "      <td>SE</td>\n",
       "      <td>Data Scientist</td>\n",
       "      <td>120000</td>\n",
       "      <td>M</td>\n",
       "    </tr>\n",
       "  </tbody>\n",
       "</table>\n",
       "</div>"
      ],
      "text/plain": [
       "  experience_level                 job_title  salary company_size\n",
       "0               SE  Principal Data Scientist   80000            L\n",
       "1               MI               ML Engineer   30000            S\n",
       "2               MI               ML Engineer   25500            S\n",
       "3               SE            Data Scientist  175000            M\n",
       "4               SE            Data Scientist  120000            M"
      ]
     },
     "execution_count": 167,
     "metadata": {},
     "output_type": "execute_result"
    }
   ],
   "source": [
    "salaries.head()"
   ]
  },
  {
   "cell_type": "code",
   "execution_count": 169,
   "id": "d11a096d",
   "metadata": {},
   "outputs": [
    {
     "name": "stdout",
     "output_type": "stream",
     "text": [
      "object\n",
      "object\n",
      "int64\n",
      "object\n"
     ]
    }
   ],
   "source": [
    "print(salaries.dtypes['experience_level'])\n",
    "print(salaries.dtypes['job_title'])\n",
    "print(salaries.dtypes['salary'])\n",
    "print(salaries.dtypes['company_size'])"
   ]
  },
  {
   "cell_type": "code",
   "execution_count": 170,
   "id": "f6af7817",
   "metadata": {},
   "outputs": [],
   "source": [
    "salaries['salary'] = salaries['salary'].astype(float)"
   ]
  },
  {
   "cell_type": "code",
   "execution_count": 171,
   "id": "9928d915",
   "metadata": {},
   "outputs": [
    {
     "name": "stdout",
     "output_type": "stream",
     "text": [
      "object\n",
      "object\n",
      "float64\n",
      "object\n"
     ]
    }
   ],
   "source": [
    "print(salaries.dtypes['experience_level'])\n",
    "print(salaries.dtypes['job_title'])\n",
    "print(salaries.dtypes['salary'])\n",
    "print(salaries.dtypes['company_size'])"
   ]
  },
  {
   "cell_type": "markdown",
   "id": "477b279f",
   "metadata": {},
   "source": [
    "# Machine Learning Model"
   ]
  },
  {
   "cell_type": "code",
   "execution_count": 172,
   "id": "9c8c12b7",
   "metadata": {},
   "outputs": [],
   "source": [
    "from sklearn import svm\n",
    "from sklearn.model_selection import train_test_split\n",
    "from sklearn.preprocessing import LabelEncoder"
   ]
  },
  {
   "cell_type": "code",
   "execution_count": 173,
   "id": "761689c5",
   "metadata": {},
   "outputs": [],
   "source": [
    "le = LabelEncoder()"
   ]
  },
  {
   "cell_type": "code",
   "execution_count": 174,
   "id": "eec6d392",
   "metadata": {},
   "outputs": [],
   "source": [
    "y = salaries['salary']"
   ]
  },
  {
   "cell_type": "code",
   "execution_count": 175,
   "id": "7cf7985c",
   "metadata": {},
   "outputs": [],
   "source": [
    "x = salaries.drop(\"salary\",axis=1)"
   ]
  },
  {
   "cell_type": "code",
   "execution_count": 176,
   "id": "8f4e16e8",
   "metadata": {},
   "outputs": [
    {
     "data": {
      "text/html": [
       "<div>\n",
       "<style scoped>\n",
       "    .dataframe tbody tr th:only-of-type {\n",
       "        vertical-align: middle;\n",
       "    }\n",
       "\n",
       "    .dataframe tbody tr th {\n",
       "        vertical-align: top;\n",
       "    }\n",
       "\n",
       "    .dataframe thead th {\n",
       "        text-align: right;\n",
       "    }\n",
       "</style>\n",
       "<table border=\"1\" class=\"dataframe\">\n",
       "  <thead>\n",
       "    <tr style=\"text-align: right;\">\n",
       "      <th></th>\n",
       "      <th>experience_level</th>\n",
       "      <th>job_title</th>\n",
       "      <th>company_size</th>\n",
       "    </tr>\n",
       "  </thead>\n",
       "  <tbody>\n",
       "    <tr>\n",
       "      <th>0</th>\n",
       "      <td>SE</td>\n",
       "      <td>Principal Data Scientist</td>\n",
       "      <td>L</td>\n",
       "    </tr>\n",
       "    <tr>\n",
       "      <th>1</th>\n",
       "      <td>MI</td>\n",
       "      <td>ML Engineer</td>\n",
       "      <td>S</td>\n",
       "    </tr>\n",
       "    <tr>\n",
       "      <th>2</th>\n",
       "      <td>MI</td>\n",
       "      <td>ML Engineer</td>\n",
       "      <td>S</td>\n",
       "    </tr>\n",
       "    <tr>\n",
       "      <th>3</th>\n",
       "      <td>SE</td>\n",
       "      <td>Data Scientist</td>\n",
       "      <td>M</td>\n",
       "    </tr>\n",
       "    <tr>\n",
       "      <th>4</th>\n",
       "      <td>SE</td>\n",
       "      <td>Data Scientist</td>\n",
       "      <td>M</td>\n",
       "    </tr>\n",
       "    <tr>\n",
       "      <th>...</th>\n",
       "      <td>...</td>\n",
       "      <td>...</td>\n",
       "      <td>...</td>\n",
       "    </tr>\n",
       "    <tr>\n",
       "      <th>3750</th>\n",
       "      <td>SE</td>\n",
       "      <td>Data Scientist</td>\n",
       "      <td>L</td>\n",
       "    </tr>\n",
       "    <tr>\n",
       "      <th>3751</th>\n",
       "      <td>MI</td>\n",
       "      <td>Principal Data Scientist</td>\n",
       "      <td>L</td>\n",
       "    </tr>\n",
       "    <tr>\n",
       "      <th>3752</th>\n",
       "      <td>EN</td>\n",
       "      <td>Data Scientist</td>\n",
       "      <td>S</td>\n",
       "    </tr>\n",
       "    <tr>\n",
       "      <th>3753</th>\n",
       "      <td>EN</td>\n",
       "      <td>Business Data Analyst</td>\n",
       "      <td>L</td>\n",
       "    </tr>\n",
       "    <tr>\n",
       "      <th>3754</th>\n",
       "      <td>SE</td>\n",
       "      <td>Data Science Manager</td>\n",
       "      <td>L</td>\n",
       "    </tr>\n",
       "  </tbody>\n",
       "</table>\n",
       "<p>3755 rows × 3 columns</p>\n",
       "</div>"
      ],
      "text/plain": [
       "     experience_level                 job_title company_size\n",
       "0                  SE  Principal Data Scientist            L\n",
       "1                  MI               ML Engineer            S\n",
       "2                  MI               ML Engineer            S\n",
       "3                  SE            Data Scientist            M\n",
       "4                  SE            Data Scientist            M\n",
       "...               ...                       ...          ...\n",
       "3750               SE            Data Scientist            L\n",
       "3751               MI  Principal Data Scientist            L\n",
       "3752               EN            Data Scientist            S\n",
       "3753               EN     Business Data Analyst            L\n",
       "3754               SE      Data Science Manager            L\n",
       "\n",
       "[3755 rows x 3 columns]"
      ]
     },
     "execution_count": 176,
     "metadata": {},
     "output_type": "execute_result"
    }
   ],
   "source": [
    "le.fit(np.unique(x))\n",
    "x"
   ]
  },
  {
   "cell_type": "code",
   "execution_count": 177,
   "id": "f35ce5d5",
   "metadata": {},
   "outputs": [],
   "source": [
    "x= pd.DataFrame(le.transform(samp) for samp in x.values)"
   ]
  },
  {
   "cell_type": "code",
   "execution_count": 178,
   "id": "211b0ae0",
   "metadata": {},
   "outputs": [
    {
     "data": {
      "text/html": [
       "<div>\n",
       "<style scoped>\n",
       "    .dataframe tbody tr th:only-of-type {\n",
       "        vertical-align: middle;\n",
       "    }\n",
       "\n",
       "    .dataframe tbody tr th {\n",
       "        vertical-align: top;\n",
       "    }\n",
       "\n",
       "    .dataframe thead th {\n",
       "        text-align: right;\n",
       "    }\n",
       "</style>\n",
       "<table border=\"1\" class=\"dataframe\">\n",
       "  <thead>\n",
       "    <tr style=\"text-align: right;\">\n",
       "      <th></th>\n",
       "      <th>0</th>\n",
       "      <th>1</th>\n",
       "      <th>2</th>\n",
       "    </tr>\n",
       "  </thead>\n",
       "  <tbody>\n",
       "    <tr>\n",
       "      <th>0</th>\n",
       "      <td>96</td>\n",
       "      <td>89</td>\n",
       "      <td>64</td>\n",
       "    </tr>\n",
       "    <tr>\n",
       "      <th>1</th>\n",
       "      <td>70</td>\n",
       "      <td>71</td>\n",
       "      <td>95</td>\n",
       "    </tr>\n",
       "    <tr>\n",
       "      <th>2</th>\n",
       "      <td>70</td>\n",
       "      <td>71</td>\n",
       "      <td>95</td>\n",
       "    </tr>\n",
       "    <tr>\n",
       "      <th>3</th>\n",
       "      <td>96</td>\n",
       "      <td>47</td>\n",
       "      <td>69</td>\n",
       "    </tr>\n",
       "    <tr>\n",
       "      <th>4</th>\n",
       "      <td>96</td>\n",
       "      <td>47</td>\n",
       "      <td>69</td>\n",
       "    </tr>\n",
       "    <tr>\n",
       "      <th>...</th>\n",
       "      <td>...</td>\n",
       "      <td>...</td>\n",
       "      <td>...</td>\n",
       "    </tr>\n",
       "    <tr>\n",
       "      <th>3750</th>\n",
       "      <td>96</td>\n",
       "      <td>47</td>\n",
       "      <td>64</td>\n",
       "    </tr>\n",
       "    <tr>\n",
       "      <th>3751</th>\n",
       "      <td>70</td>\n",
       "      <td>89</td>\n",
       "      <td>64</td>\n",
       "    </tr>\n",
       "    <tr>\n",
       "      <th>3752</th>\n",
       "      <td>54</td>\n",
       "      <td>47</td>\n",
       "      <td>95</td>\n",
       "    </tr>\n",
       "    <tr>\n",
       "      <th>3753</th>\n",
       "      <td>54</td>\n",
       "      <td>17</td>\n",
       "      <td>64</td>\n",
       "    </tr>\n",
       "    <tr>\n",
       "      <th>3754</th>\n",
       "      <td>96</td>\n",
       "      <td>45</td>\n",
       "      <td>64</td>\n",
       "    </tr>\n",
       "  </tbody>\n",
       "</table>\n",
       "<p>3755 rows × 3 columns</p>\n",
       "</div>"
      ],
      "text/plain": [
       "       0   1   2\n",
       "0     96  89  64\n",
       "1     70  71  95\n",
       "2     70  71  95\n",
       "3     96  47  69\n",
       "4     96  47  69\n",
       "...   ..  ..  ..\n",
       "3750  96  47  64\n",
       "3751  70  89  64\n",
       "3752  54  47  95\n",
       "3753  54  17  64\n",
       "3754  96  45  64\n",
       "\n",
       "[3755 rows x 3 columns]"
      ]
     },
     "execution_count": 178,
     "metadata": {},
     "output_type": "execute_result"
    }
   ],
   "source": [
    "x"
   ]
  },
  {
   "cell_type": "code",
   "execution_count": 179,
   "id": "f3ee65b7",
   "metadata": {},
   "outputs": [],
   "source": [
    "X_train, X_test, y_train, y_test = train_test_split(x, y, random_state=0, train_size = .75)"
   ]
  },
  {
   "cell_type": "code",
   "execution_count": 180,
   "id": "5d4c79d1",
   "metadata": {},
   "outputs": [
    {
     "data": {
      "text/plain": [
       "(2816,)"
      ]
     },
     "execution_count": 180,
     "metadata": {},
     "output_type": "execute_result"
    }
   ],
   "source": [
    "y_train.shape"
   ]
  },
  {
   "cell_type": "code",
   "execution_count": 181,
   "id": "97cd827e",
   "metadata": {},
   "outputs": [
    {
     "data": {
      "text/plain": [
       "(939,)"
      ]
     },
     "execution_count": 181,
     "metadata": {},
     "output_type": "execute_result"
    }
   ],
   "source": [
    "y_test.shape"
   ]
  },
  {
   "cell_type": "code",
   "execution_count": 182,
   "id": "9ab461ed",
   "metadata": {},
   "outputs": [
    {
     "data": {
      "text/plain": [
       "1900    142200.0\n",
       "536     120000.0\n",
       "3504    100000.0\n",
       "1947    125000.0\n",
       "3267     99360.0\n",
       "          ...   \n",
       "835     146300.0\n",
       "3264    102100.0\n",
       "1653     95000.0\n",
       "2607    130000.0\n",
       "2732    180000.0\n",
       "Name: salary, Length: 2816, dtype: float64"
      ]
     },
     "execution_count": 182,
     "metadata": {},
     "output_type": "execute_result"
    }
   ],
   "source": [
    " y_train"
   ]
  },
  {
   "cell_type": "code",
   "execution_count": 183,
   "id": "57d09e5b",
   "metadata": {},
   "outputs": [],
   "source": [
    "regr = svm.SVR()"
   ]
  },
  {
   "cell_type": "code",
   "execution_count": 184,
   "id": "69fbf2f5",
   "metadata": {},
   "outputs": [
    {
     "data": {
      "text/plain": [
       "SVR()"
      ]
     },
     "execution_count": 184,
     "metadata": {},
     "output_type": "execute_result"
    }
   ],
   "source": [
    "regr.fit(X_test, y_test)"
   ]
  },
  {
   "cell_type": "code",
   "execution_count": 185,
   "id": "47f48a2f",
   "metadata": {},
   "outputs": [],
   "source": [
    "predict = regr.predict(X_test)"
   ]
  },
  {
   "cell_type": "code",
   "execution_count": 186,
   "id": "9c20e43b",
   "metadata": {},
   "outputs": [
    {
     "data": {
      "text/plain": [
       "SVR()"
      ]
     },
     "execution_count": 186,
     "metadata": {},
     "output_type": "execute_result"
    }
   ],
   "source": [
    "regr.fit(X_train, y_train)"
   ]
  },
  {
   "cell_type": "code",
   "execution_count": 187,
   "id": "d1cb3db4",
   "metadata": {},
   "outputs": [
    {
     "data": {
      "text/html": [
       "<div>\n",
       "<style scoped>\n",
       "    .dataframe tbody tr th:only-of-type {\n",
       "        vertical-align: middle;\n",
       "    }\n",
       "\n",
       "    .dataframe tbody tr th {\n",
       "        vertical-align: top;\n",
       "    }\n",
       "\n",
       "    .dataframe thead th {\n",
       "        text-align: right;\n",
       "    }\n",
       "</style>\n",
       "<table border=\"1\" class=\"dataframe\">\n",
       "  <thead>\n",
       "    <tr style=\"text-align: right;\">\n",
       "      <th></th>\n",
       "      <th>0</th>\n",
       "      <th>1</th>\n",
       "      <th>2</th>\n",
       "    </tr>\n",
       "  </thead>\n",
       "  <tbody>\n",
       "    <tr>\n",
       "      <th>953</th>\n",
       "      <td>96</td>\n",
       "      <td>33</td>\n",
       "      <td>69</td>\n",
       "    </tr>\n",
       "    <tr>\n",
       "      <th>2415</th>\n",
       "      <td>70</td>\n",
       "      <td>25</td>\n",
       "      <td>69</td>\n",
       "    </tr>\n",
       "    <tr>\n",
       "      <th>3586</th>\n",
       "      <td>70</td>\n",
       "      <td>33</td>\n",
       "      <td>64</td>\n",
       "    </tr>\n",
       "    <tr>\n",
       "      <th>2969</th>\n",
       "      <td>54</td>\n",
       "      <td>47</td>\n",
       "      <td>69</td>\n",
       "    </tr>\n",
       "    <tr>\n",
       "      <th>3023</th>\n",
       "      <td>70</td>\n",
       "      <td>25</td>\n",
       "      <td>95</td>\n",
       "    </tr>\n",
       "    <tr>\n",
       "      <th>...</th>\n",
       "      <td>...</td>\n",
       "      <td>...</td>\n",
       "      <td>...</td>\n",
       "    </tr>\n",
       "    <tr>\n",
       "      <th>3155</th>\n",
       "      <td>70</td>\n",
       "      <td>3</td>\n",
       "      <td>64</td>\n",
       "    </tr>\n",
       "    <tr>\n",
       "      <th>3613</th>\n",
       "      <td>96</td>\n",
       "      <td>16</td>\n",
       "      <td>69</td>\n",
       "    </tr>\n",
       "    <tr>\n",
       "      <th>3149</th>\n",
       "      <td>96</td>\n",
       "      <td>25</td>\n",
       "      <td>69</td>\n",
       "    </tr>\n",
       "    <tr>\n",
       "      <th>3383</th>\n",
       "      <td>96</td>\n",
       "      <td>47</td>\n",
       "      <td>69</td>\n",
       "    </tr>\n",
       "    <tr>\n",
       "      <th>34</th>\n",
       "      <td>96</td>\n",
       "      <td>23</td>\n",
       "      <td>69</td>\n",
       "    </tr>\n",
       "  </tbody>\n",
       "</table>\n",
       "<p>939 rows × 3 columns</p>\n",
       "</div>"
      ],
      "text/plain": [
       "       0   1   2\n",
       "953   96  33  69\n",
       "2415  70  25  69\n",
       "3586  70  33  64\n",
       "2969  54  47  69\n",
       "3023  70  25  95\n",
       "...   ..  ..  ..\n",
       "3155  70   3  64\n",
       "3613  96  16  69\n",
       "3149  96  25  69\n",
       "3383  96  47  69\n",
       "34    96  23  69\n",
       "\n",
       "[939 rows x 3 columns]"
      ]
     },
     "execution_count": 187,
     "metadata": {},
     "output_type": "execute_result"
    }
   ],
   "source": [
    "X_test # Label Values You can retransform it"
   ]
  },
  {
   "cell_type": "code",
   "execution_count": 188,
   "id": "9371bfff",
   "metadata": {},
   "outputs": [
    {
     "data": {
      "text/plain": [
       "array([140038.2724198 , 139970.13240699, 139979.36354636, 139975.24548091,\n",
       "       139977.89838539, 140083.25996117, 140038.2724198 , 140038.2724198 ,\n",
       "       139970.13240699, 140066.20161896, 140083.25996117, 140034.90201913,\n",
       "       140000.00000126, 140083.25996117, 140038.2724198 , 139977.45354703,\n",
       "       139996.33839188, 139955.71747509, 139966.32318962, 139977.45354703,\n",
       "       140057.71778712, 140083.25996117, 140083.25996117, 140025.71007324,\n",
       "       140038.2724198 , 140038.2724198 , 140038.2724198 , 140039.46983679,\n",
       "       139975.24548091, 139973.78099146, 140083.25996117, 140038.2724198 ,\n",
       "       139977.45354703, 140065.96329489, 140000.00000126, 140009.55927288,\n",
       "       140038.2724198 , 140011.70963111, 140038.2724198 , 140062.77398821,\n",
       "       140038.2724198 , 140036.10946208, 140063.70902172, 139977.45354703,\n",
       "       140000.00000126, 140083.25996117, 139977.45354703, 140009.55927288,\n",
       "       140062.77398821, 140062.77398821, 140039.46983679, 139955.71747509,\n",
       "       140009.55927288, 140038.2724198 , 139977.7552094 , 140083.25996117,\n",
       "       140065.30097434, 140063.70902172, 140038.2724198 , 140038.2724198 ,\n",
       "       140045.29040454, 140041.75913817, 140038.2724198 , 140032.88874176,\n",
       "       140038.2724198 , 140038.2724198 , 139970.13240699, 140038.2724198 ,\n",
       "       139977.45354703, 140038.2724198 , 140062.77398821, 140010.84824265,\n",
       "       140038.2724198 , 140009.55927288, 140025.71007324, 139977.45354703,\n",
       "       140059.43357506, 140083.25996117, 140062.77398821, 140038.2724198 ,\n",
       "       140038.2724198 , 140083.25996117, 140062.77398821, 140062.77398821,\n",
       "       140000.00000126, 140062.77398821, 139982.91714915, 140025.71007324,\n",
       "       140026.6321274 , 139977.45354703, 140062.77398821, 140025.71007324,\n",
       "       140042.16486309, 140062.77398821, 140060.41446985, 140025.71007324,\n",
       "       140000.00000126, 140062.77398821, 140038.2724198 , 140039.46018669,\n",
       "       140025.71007324, 140038.2724198 , 139977.45354703, 140034.90201913,\n",
       "       139977.45354703, 139982.22555162, 139975.24548091, 140009.55927288,\n",
       "       140025.71007324, 140038.2724198 , 140038.2724198 , 140009.55927288,\n",
       "       140025.71007324, 139970.13240699, 139958.90852544, 140038.2724198 ,\n",
       "       140083.25996117, 140025.71007324, 140012.28378271, 140062.77398821,\n",
       "       140083.25996117, 140038.2724198 , 140016.03987794, 140038.2724198 ,\n",
       "       140034.90201913, 140025.71007324, 140062.77398821, 140082.54417764,\n",
       "       140083.12262314, 140080.95182668, 140038.2724198 , 140083.4926861 ,\n",
       "       140009.55927288, 140034.90201913, 140038.2724198 , 140062.77398821,\n",
       "       140000.00000126, 140015.07275181, 140062.77398821, 140062.77398821,\n",
       "       140066.20161896, 140063.70902172, 140025.71007324, 140025.71007324,\n",
       "       140038.2724198 , 139975.24548091, 140014.6949777 , 139972.96830839,\n",
       "       139969.73704409, 140062.77398821, 139977.45354703, 140038.2724198 ,\n",
       "       140025.71007324, 140038.2724198 , 140011.34377521, 139977.45354703,\n",
       "       140054.21802586, 140062.77398821, 140024.54315511, 140083.25996117,\n",
       "       140010.63365962, 140062.77398821, 139959.88291548, 140038.2724198 ,\n",
       "       139958.90852544, 139977.45354703, 140038.2724198 , 140001.69723236,\n",
       "       140025.71007324, 139970.13240699, 140010.39061008, 140038.2724198 ,\n",
       "       140038.2724198 , 139958.90852544, 140038.2724198 , 140038.2724198 ,\n",
       "       140038.2724198 , 139975.24548091, 140042.16486309, 139975.24548091,\n",
       "       139958.90852544, 140038.2724198 , 140024.89944898, 140062.77398821,\n",
       "       140063.70902172, 140010.76906172, 140038.2724198 , 139978.7193622 ,\n",
       "       140038.2724198 , 140034.90201913, 140016.48536395, 139996.33839188,\n",
       "       140039.46018669, 139958.90852544, 140063.70902172, 140016.8682028 ,\n",
       "       139959.31701977, 140062.77398821, 139977.45354703, 140038.2724198 ,\n",
       "       140059.43357506, 140025.71007324, 140038.2724198 , 140025.71007324,\n",
       "       140016.43083051, 139970.13240699, 140063.70902172, 140039.99855606,\n",
       "       139977.45354703, 140062.77398821, 140066.20161896, 140062.77398821,\n",
       "       140025.71007324, 140034.90201913, 140038.2724198 , 140025.71007324,\n",
       "       140010.63365962, 139982.22555162, 139975.24548091, 140062.77398821,\n",
       "       140025.71007324, 140037.91569263, 140038.2724198 , 140062.77398821,\n",
       "       140083.25996117, 140038.2724198 , 140063.70902172, 140038.2724198 ,\n",
       "       140080.95182668, 139975.24548091, 139977.45354703, 140000.00000126,\n",
       "       140062.77398821, 140025.71007324, 139955.71747509, 139997.22463635,\n",
       "       140034.90201913, 140023.03470746, 140062.77398821, 140038.2724198 ,\n",
       "       140066.20161896, 140038.2724198 , 139977.45354703, 140000.8082029 ,\n",
       "       140042.41405891, 139960.70785626, 139968.65724096, 140023.03470746,\n",
       "       139977.45354703, 140034.90201913, 140062.77398821, 140038.2724198 ,\n",
       "       140020.94508161, 140062.77398821, 139979.36354636, 140009.55927288,\n",
       "       140038.2724198 , 140083.54415439, 140062.77398821, 139977.45354703,\n",
       "       140062.77398821, 139958.90852544, 140008.30862003, 139987.63602967,\n",
       "       140066.20161896, 140062.77398821, 140060.41446985, 140083.25996117,\n",
       "       140010.63365962, 140025.71007324, 140038.2724198 , 140063.70902172,\n",
       "       140038.2724198 , 140062.77398821, 140041.58511067, 140038.2724198 ,\n",
       "       140038.2724198 , 140062.77398821, 140034.90201913, 139997.22463635,\n",
       "       140000.00000126, 139957.4653862 , 140038.2724198 , 140038.2724198 ,\n",
       "       139957.42252113, 140038.2724198 , 140041.93396945, 140034.90201913,\n",
       "       140072.10231691, 140025.71007324, 140038.2724198 , 140009.55927288,\n",
       "       140083.50752722, 140062.77398821, 140025.71007324, 139996.33839188,\n",
       "       140038.2724198 , 139970.13240699, 140038.2724198 , 140083.25996117,\n",
       "       140083.25996117, 140062.77398821, 140038.2724198 , 140055.59999269,\n",
       "       139982.35774245, 140062.77398821, 139960.70785626, 140066.20161896,\n",
       "       140016.03987794, 139963.67007306, 140041.93396945, 140062.77398821,\n",
       "       140062.77398821, 139982.22555162, 139955.71747509, 140025.90434643,\n",
       "       140062.77398821, 140038.2724198 , 139997.22463635, 140000.00000126,\n",
       "       140041.58511067, 140063.70902172, 139968.26088423, 140083.25996117,\n",
       "       140062.77398821, 140062.77398821, 140000.00000126, 140038.2724198 ,\n",
       "       140001.69723236, 140000.00000126, 140062.77398821, 140062.77398821,\n",
       "       140038.2724198 , 139960.18383093, 140062.77398821, 139972.01802804,\n",
       "       140067.41226415, 140062.77398821, 139962.79450749, 140062.77398821,\n",
       "       140011.70963111, 140062.77398821, 140062.77398821, 140000.00000126,\n",
       "       140025.71007324, 139958.90852544, 140038.2724198 , 140062.77398821,\n",
       "       140062.77398821, 140009.55927288, 140025.71007324, 140025.71007324,\n",
       "       139972.31311402, 140040.38942963, 140062.77398821, 140062.77398821,\n",
       "       140009.55927288, 139969.51906638, 140038.2724198 , 140034.90201913,\n",
       "       140062.77398821, 139955.71747509, 140074.30091595, 139975.14146292,\n",
       "       140083.25996117, 140039.46983679, 139958.90852544, 140022.81466301,\n",
       "       139972.01802804, 140040.25549216, 140080.95182668, 140009.55927288,\n",
       "       140025.71007324, 139970.13240699, 140062.77398821, 140022.89181539,\n",
       "       140024.6034189 , 140062.77398821, 140039.46018669, 140038.2724198 ,\n",
       "       140001.69723236, 140039.46018669, 140016.03987794, 140036.10946208,\n",
       "       140062.77398821, 140025.71007324, 140025.71007324, 140025.71007324,\n",
       "       140083.25996117, 139970.13240699, 139970.13240699, 140062.77398821,\n",
       "       139972.32119092, 139970.13240699, 139955.71747509, 140062.77398821,\n",
       "       140001.69723236, 140025.71007324, 140025.71007324, 140009.55927288,\n",
       "       139970.27429752, 139979.36354636, 140067.49066272, 140025.71007324,\n",
       "       139977.45354703, 140019.59208   , 140083.77284921, 139977.45354703,\n",
       "       140000.00000126, 140025.71007324, 140038.2724198 , 140038.2724198 ,\n",
       "       140037.03544335, 140038.2724198 , 140025.71007324, 140062.77398821,\n",
       "       140062.77398821, 140052.44342423, 140038.2724198 , 140025.71007324,\n",
       "       140025.71007324, 140025.71007324, 140025.71007324, 140062.77398821,\n",
       "       139969.73704409, 140025.71007324, 140038.2724198 , 140038.2724198 ,\n",
       "       140025.71007324, 140083.25996117, 140062.77398821, 140062.77398821,\n",
       "       140009.55927288, 139984.99438997, 139975.54777916, 140066.20161896,\n",
       "       140062.77398821, 140038.2724198 , 140038.2724198 , 140029.21883068,\n",
       "       140062.77398821, 139969.51906638, 140062.77398821, 140038.2724198 ,\n",
       "       140083.25996117, 140080.29263199, 140038.2724198 , 140056.51904082,\n",
       "       140079.44261152, 139970.13240699, 140039.46018669, 140062.77398821,\n",
       "       140062.77398821, 140038.2724198 , 139977.45354703, 139974.75782393,\n",
       "       140025.71007324, 140066.22410747, 140083.25996117, 140039.46983679,\n",
       "       140038.2724198 , 139997.22463635, 140062.77398821, 140060.41446985,\n",
       "       140038.2724198 , 140038.2724198 , 139974.76978363, 140083.54415439,\n",
       "       139955.71747509, 140062.77398821, 140045.29040454, 140062.77398821,\n",
       "       140038.2724198 , 140083.77284921, 140010.63365962, 139979.36354636,\n",
       "       140025.71007324, 140062.77398821, 140062.77398821, 139966.60025558,\n",
       "       140011.70963111, 140062.77398821, 140038.2724198 , 140062.77398821,\n",
       "       140009.55927288, 140062.77398821, 140062.77398821, 140009.55927288,\n",
       "       140066.20161896, 140009.55927288, 140039.46983679, 140038.2724198 ,\n",
       "       140062.77398821, 140062.77398821, 140038.2724198 , 139960.18383093,\n",
       "       140025.71007324, 139960.18383093, 140000.8082029 , 139960.18383093,\n",
       "       140031.04152099, 139977.79834623, 139977.05565595, 140025.71007324,\n",
       "       140062.77398821, 140025.71007324, 140062.77398821, 140038.2724198 ,\n",
       "       140010.06985957, 140025.71007324, 140032.88874176, 140038.2724198 ,\n",
       "       140038.2724198 , 140083.25996117, 140059.43357506, 140062.77398821,\n",
       "       140062.77398821, 140048.24894824, 140034.90201913, 139987.63602967,\n",
       "       140083.54415439, 140066.20161896, 140000.00000126, 140038.2724198 ,\n",
       "       140038.2724198 , 139978.49431236, 140038.2724198 , 140009.75125917,\n",
       "       139977.45354703, 140025.71007324, 140025.71007324, 140025.71007324,\n",
       "       139976.8989719 , 139960.18383093, 140047.07744027, 140062.77398821,\n",
       "       140066.20161896, 139982.21354241, 140059.43357506, 140025.71007324,\n",
       "       140040.25549216, 140083.25996117, 139978.49431236, 140025.71007324,\n",
       "       139977.45354703, 140038.2724198 , 140025.71007324, 140038.2724198 ,\n",
       "       140054.21802586, 140000.00000126, 140025.71007324, 139970.13575876,\n",
       "       140000.00000126, 140039.46018669, 139977.45354703, 140038.2724198 ,\n",
       "       140062.77398821, 140038.2724198 , 140062.77398821, 140038.2724198 ,\n",
       "       140000.00000126, 140038.2724198 , 140025.71007324, 140023.03470746,\n",
       "       140039.46018669, 140062.77398821, 140062.77398821, 139977.45354703,\n",
       "       139970.13240699, 140000.00000126, 140062.77398821, 140038.2724198 ,\n",
       "       139981.46497258, 140000.00000126, 140062.77398821, 139970.13240699,\n",
       "       139968.1824227 , 139989.23203884, 140059.43357506, 140039.46983679,\n",
       "       140083.25996117, 140025.71007324, 140083.77284921, 140077.08843281,\n",
       "       139997.22463635, 140038.2724198 , 140038.2724198 , 140062.77398821,\n",
       "       140080.29263199, 140005.51249117, 139955.73969628, 140000.00000126,\n",
       "       140083.25996117, 139956.0247101 , 139968.40631805, 140025.71007324,\n",
       "       140025.71007324, 140041.83954935, 140083.25996117, 140038.2724198 ,\n",
       "       140038.2724198 , 140041.58511067, 140025.71007324, 140009.55927288,\n",
       "       140031.66657622, 140062.77398821, 139982.22555162, 140038.2724198 ,\n",
       "       140062.77398821, 139977.45354703, 140041.74648723, 139955.71747509,\n",
       "       140038.2724198 , 140024.89944898, 140038.2724198 , 139977.79834623,\n",
       "       139975.54777916, 140038.2724198 , 140062.77398821, 140025.71007324,\n",
       "       139994.53632573, 140062.77398821, 140045.29040454, 140038.2724198 ,\n",
       "       140066.20161896, 140000.00000126, 140000.00000126, 140025.71007324,\n",
       "       139957.4653862 , 140062.77398821, 139976.06518149, 140062.77398821,\n",
       "       139958.90852544, 140000.00000126, 140011.70963111, 140083.25996117,\n",
       "       139997.22463635, 139977.85126374, 139975.24548091, 140063.70902172,\n",
       "       140038.2724198 , 140025.71007324, 140038.2724198 , 140038.2724198 ,\n",
       "       140015.10150656, 140062.77398821, 140000.00000126, 140083.9863426 ,\n",
       "       139977.45354703, 139957.4653862 , 140062.77398821, 140025.71007324,\n",
       "       140083.54415439, 139977.45354703, 140038.2724198 , 140062.77398821,\n",
       "       139977.79834623, 140038.2724198 , 140083.25996117, 140063.70902172,\n",
       "       140039.46018669, 140034.90201913, 140038.2724198 , 140025.71007324,\n",
       "       140038.2724198 , 140025.71007324, 140038.2724198 , 140062.77398821,\n",
       "       140062.77398821, 140038.2724198 , 140038.2724198 , 140083.25996117,\n",
       "       140038.2724198 , 139971.06477568, 140062.77398821, 140067.41226415,\n",
       "       139957.4653862 , 140000.00000126, 140045.29040454, 139977.45354703,\n",
       "       140038.2724198 , 139977.45354703, 139973.13993993, 140011.70963111,\n",
       "       140025.71007324, 140083.25996117, 139969.51906638, 139970.13240699,\n",
       "       139972.01802804, 140038.2724198 , 140083.25996117, 139979.36354636,\n",
       "       139969.7571977 , 139957.4653862 , 140066.85036528, 139977.45354703,\n",
       "       139970.13240699, 140038.2724198 , 140083.25996117, 140024.46684352,\n",
       "       140062.77398821, 140034.90201913, 140056.51904082, 139977.45354703,\n",
       "       140034.90201913, 140038.2724198 , 140062.77398821, 140083.25996117,\n",
       "       139979.36354636, 140025.71007324, 140062.77398821, 140009.55927288,\n",
       "       140034.90201913, 140038.2724198 , 139958.90852544, 140062.77398821,\n",
       "       140038.2724198 , 140063.70902172, 140007.56486611, 139955.71747509,\n",
       "       140038.2724198 , 140062.77398821, 139970.13240699, 140059.43357506,\n",
       "       140038.2724198 , 140031.66657622, 140038.2724198 , 140062.77398821,\n",
       "       140062.77398821, 139992.8224866 , 140038.2724198 , 140038.2724198 ,\n",
       "       140025.71007324, 139970.13240699, 140038.2724198 , 140000.00000126,\n",
       "       140059.43357506, 139977.45354703, 140062.77398821, 140038.2724198 ,\n",
       "       140038.2724198 , 139970.27429752, 140070.97536043, 140062.77398821,\n",
       "       140038.2724198 , 140038.2724198 , 140038.2724198 , 140062.77398821,\n",
       "       139970.13240699, 140062.77398821, 140038.2724198 , 140038.2724198 ,\n",
       "       139977.45354703, 139997.22463635, 139970.13240699, 140038.2724198 ,\n",
       "       140038.2724198 , 140083.78051199, 140062.77398821, 140009.25957435,\n",
       "       139970.13240699, 140072.10231691, 140056.51904082, 140001.69723236,\n",
       "       140034.90201913, 140062.77398821, 139970.13240699, 140062.77398821,\n",
       "       140038.2724198 , 140025.71007324, 140062.77398821, 140020.5850778 ,\n",
       "       140025.71007324, 140038.2724198 , 140038.2724198 , 140025.71007324,\n",
       "       139972.28644176, 140062.77398821, 139971.39211244, 140066.22410747,\n",
       "       140038.2724198 , 139969.73437846, 140038.2724198 , 139970.13240699,\n",
       "       140059.43357506, 140038.2724198 , 140038.2724198 , 140034.90201913,\n",
       "       140045.29040454, 140025.71007324, 140038.2724198 , 140038.2724198 ,\n",
       "       140038.2724198 , 140009.55927288, 139970.13240699, 139970.13240699,\n",
       "       140000.00000126, 140039.46018669, 140045.29040454, 140038.2724198 ,\n",
       "       140034.90201913, 140011.70963111, 139958.90852544, 140038.2724198 ,\n",
       "       140083.25996117, 140038.2724198 , 139999.23338843, 139982.22555162,\n",
       "       140037.9248434 , 140062.77398821, 140039.46983679, 140038.2724198 ,\n",
       "       139960.70785626, 140083.25996117, 139970.13240699, 140062.77398821,\n",
       "       140038.2724198 , 140062.77398821, 139974.68068165, 140025.71007324,\n",
       "       140037.03544335, 140000.56181931, 140025.71007324, 139975.24548091,\n",
       "       140038.2724198 , 140041.83954935, 140083.25996117, 140062.77398821,\n",
       "       139977.45354703, 140062.77398821, 139972.01802804, 140034.90201913,\n",
       "       140083.25996117, 140038.2724198 , 140038.2724198 , 139977.45354703,\n",
       "       140025.71007324, 140038.2724198 , 140000.00000126, 139979.36354636,\n",
       "       140063.70902172, 140062.77398821, 140038.2724198 , 139955.71747509,\n",
       "       139977.45354703, 139975.24548091, 140059.43357506, 140011.70963111,\n",
       "       140038.2724198 , 139977.89838539, 140038.2724198 , 140062.77398821,\n",
       "       140025.71007324, 140038.2724198 , 140055.97771606, 140025.71007324,\n",
       "       139970.13240699, 140038.2724198 , 139970.13240699, 140025.71007324,\n",
       "       140009.55927288, 139970.13240699, 140062.77398821, 140063.70902172,\n",
       "       139979.36354636, 140062.77398821, 140024.54315511, 140038.2724198 ,\n",
       "       139970.01891885, 140038.2724198 , 140062.77398821, 140029.82612186,\n",
       "       140040.25549216, 140059.43357506, 139976.8989719 , 140038.2724198 ,\n",
       "       140062.77398821, 139969.79867622, 140025.71007324, 140041.75913817,\n",
       "       140062.77398821, 140038.2724198 , 140059.43357506, 140009.55927288,\n",
       "       139977.45354703, 140025.71007324, 140062.77398821, 139977.45354703,\n",
       "       140062.77398821, 140045.29040454, 139976.8989719 , 139958.90852544,\n",
       "       140039.46018669, 140039.46983679, 140000.00000126, 140074.30091595,\n",
       "       139977.45354703, 139960.18383093, 140025.71007324, 140025.71007324,\n",
       "       139970.13240699, 140038.2724198 , 140038.2724198 , 139970.13240699,\n",
       "       140054.21802586, 140034.90201913, 140023.03470746, 139970.13240699,\n",
       "       140062.77398821, 140083.54415439, 140038.2724198 , 139977.45354703,\n",
       "       139973.13993993, 140009.55927288, 140083.57509231, 139969.51906638,\n",
       "       140025.71007324, 139970.13240699, 140038.2724198 , 140038.2724198 ,\n",
       "       140055.42658355, 140062.77398821, 140038.2724198 , 140038.2724198 ,\n",
       "       140083.25996117, 140083.25996117, 140062.77398821, 140025.71007324,\n",
       "       140083.25996117, 140059.43357506, 140083.25996117, 140038.2724198 ,\n",
       "       140083.25996117, 140046.7092867 , 139977.85126374, 140015.52060467,\n",
       "       140025.71007324, 140062.77398821, 140023.03470746])"
      ]
     },
     "execution_count": 188,
     "metadata": {},
     "output_type": "execute_result"
    }
   ],
   "source": [
    "predict  # Predicted Values"
   ]
  },
  {
   "cell_type": "code",
   "execution_count": 189,
   "id": "261f8b0c",
   "metadata": {},
   "outputs": [
    {
     "data": {
      "text/plain": [
       "953     126000.0\n",
       "2415    109000.0\n",
       "3586    200000.0\n",
       "2969    110000.0\n",
       "3023    450000.0\n",
       "          ...   \n",
       "3155    200000.0\n",
       "3613     85000.0\n",
       "3149     90320.0\n",
       "3383    140000.0\n",
       "34      184590.0\n",
       "Name: salary, Length: 939, dtype: float64"
      ]
     },
     "execution_count": 189,
     "metadata": {},
     "output_type": "execute_result"
    }
   ],
   "source": [
    "y_test"
   ]
  },
  {
   "cell_type": "code",
   "execution_count": null,
   "id": "7127c603",
   "metadata": {},
   "outputs": [],
   "source": []
  },
  {
   "cell_type": "code",
   "execution_count": null,
   "id": "017e8e43",
   "metadata": {},
   "outputs": [],
   "source": []
  }
 ],
 "metadata": {
  "kernelspec": {
   "display_name": "Python 3 (ipykernel)",
   "language": "python",
   "name": "python3"
  },
  "language_info": {
   "codemirror_mode": {
    "name": "ipython",
    "version": 3
   },
   "file_extension": ".py",
   "mimetype": "text/x-python",
   "name": "python",
   "nbconvert_exporter": "python",
   "pygments_lexer": "ipython3",
   "version": "3.9.12"
  }
 },
 "nbformat": 4,
 "nbformat_minor": 5
}
